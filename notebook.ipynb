{
 "cells": [
  {
   "cell_type": "markdown",
   "metadata": {},
   "source": [
    "# Theoretical Concepts"
   ]
  },
  {
   "cell_type": "markdown",
   "metadata": {},
   "source": [
    "### Framework vs library"
   ]
  },
  {
   "cell_type": "markdown",
   "metadata": {},
   "source": [
    "A `library` is essentially a set of functions that you can call, these days usually organized into classes. Each call does some work and returns control to the client.\n",
    "\n",
    "A `framework` embodies some abstract design, with more behavior built in. In order to use it you need to insert your behavior into various places in the framework either by subclassing or by plugging in your own classes. The framework's code then calls your code at these points.\n",
    "\n",
    "Other sources: https://ed.team/blog/framework-vs-libreria"
   ]
  },
  {
   "cell_type": "markdown",
   "metadata": {},
   "source": [
    "### Templates vs Static Files"
   ]
  },
  {
   "cell_type": "markdown",
   "metadata": {},
   "source": [
    "`Template files` are HTML pages that are presented to your users during the authentication process. The pages prompt users for authentication information, such as user names and passwords, or present information to users, such as one-time passwords, status, or errors.\n",
    "\n",
    "You can customize any of the HTML pages by exporting, modifying, and importing its corresponding template file. Each template file uses one or more specific macros. Source :https://www.ibm.com/docs/en/sva/9.0.5?topic=settings-template-files\n",
    "\n",
    "`Static files` are typically files such as scripts, CSS files, images, etc... that aren't server-generated, but must be sent to the browser when requested."
   ]
  },
  {
   "cell_type": "code",
   "execution_count": null,
   "metadata": {},
   "outputs": [],
   "source": []
  },
  {
   "cell_type": "code",
   "execution_count": null,
   "metadata": {},
   "outputs": [],
   "source": []
  },
  {
   "cell_type": "markdown",
   "metadata": {},
   "source": [
    "# Standard Web Technologies"
   ]
  },
  {
   "cell_type": "markdown",
   "metadata": {},
   "source": [
    "### User? User Agent? and Client? Contrast\n",
    "* `User` is the person who actually make use of the computer and computer related services\n",
    "* `User agent` can be described as a browser or an mobile application. *Chrome*, *Mozilla Firefox*\n",
    "* `clients` can be visualized as the application code. It is the code running at the end user side in order to \n",
    "\n",
    "Theory about user and agent:\n",
    "https://medium.com/@winma.15/user-user-agent-and-client-what-differs-c2a31b3066f"
   ]
  },
  {
   "cell_type": "markdown",
   "metadata": {},
   "source": [
    "# FastAPI"
   ]
  },
  {
   "cell_type": "markdown",
   "metadata": {},
   "source": [
    "* To make the `requirement.txt` file that contains the packages we've installed\n",
    "  * Type in terminal \n",
    "    ```cmd\n",
    "    pip freeze > requirement.txt\n",
    "    ```\n"
   ]
  },
  {
   "cell_type": "markdown",
   "metadata": {},
   "source": [
    "## First Steps"
   ]
  },
  {
   "cell_type": "markdown",
   "metadata": {},
   "source": [
    "The simplest FastAPI file could like this\n",
    "\n",
    "* In the file `main.py`\n",
    "    ```python\n",
    "    from fastapi import FastAPI\n",
    "\n",
    "    app = FastAPI()\n",
    "\n",
    "    @app.get(\"/\")\n",
    "    async def root():\n",
    "        return {\"Message\": \"Hello World\"}\n",
    "    ```\n",
    "* run `uvicorn main:app --reload`"
   ]
  },
  {
   "cell_type": "markdown",
   "metadata": {},
   "source": [
    "`Uvicorn` creates the interface to an application connect to server thought a gateway. Formally `Uvicorn` is an ASGI (*Asynchronous Server Gateway Interface*) web server implementation for Python.\n",
    "\n",
    "By default *port* is `8000` and the  `http` *protocol*, `127.0.0.1` point out the local server.\n",
    "\n",
    "\n",
    "> The ASGI interface has two sides: the `server` or `gateway` side, and the `application` or `framework` side. The server side invokes a callable object that is provided by the application side\n",
    "\n",
    "In the code `main` is the name of the file that contain the application `app` create inside of `main.py`.\n",
    "\n",
    "This `app` is an instance of the `FastAPI()` class. This will be the main point of interaction to create all our API.\n",
    "\n",
    "In the `app` we can define the *path*, *endpoint* or a *route* and the operation `get`, `delete`, `post`, `put` and others\n",
    "\n",
    "* path is the last part of the URL starting from the first `/`\n",
    "  * e.g. for https://www.lambdatest.com/free-online-tools/url-parse, `/free-online-tools/url-parse` is the path\n",
    "\n",
    "* With the decoration `@` we can pass the ``app``, the operation `get` and the route `/`. For instance, `@app.get('/')`\n",
    "\n",
    "* Below this decoration we define the `function` (can be sync or async) and what we want to `return`.\n",
    "\n",
    "\n",
    "`--reload` make the server restart after code changes. Only use for development.\n",
    "\n",
    "souces:https://peps.python.org/pep-3333/ ,https://asgi.readthedocs.io/en/latest/, https://www.uvicorn.org/server-behavior/\n"
   ]
  },
  {
   "cell_type": "markdown",
   "metadata": {},
   "source": [
    "If we wan to see the documentation of our API, go to http://127.0.0.1:8000/docs or  http://127.0.0.1:8000/redocs"
   ]
  },
  {
   "cell_type": "markdown",
   "metadata": {},
   "source": [
    "#### OpenAPI\n",
    "\n",
    "FastAPI generates a \"schema\" with all your API using the OpenAPI standard for defining APIs.\n",
    "\n",
    "To see it http://127.0.0.1:8000/openapi.json"
   ]
  },
  {
   "cell_type": "code",
   "execution_count": null,
   "metadata": {},
   "outputs": [],
   "source": []
  },
  {
   "cell_type": "markdown",
   "metadata": {},
   "source": [
    "### Request"
   ]
  },
  {
   "cell_type": "markdown",
   "metadata": {},
   "source": [
    "If we want to know the URL, Headers, query parameters, Path Parameters, and so on of a *route*,  `Request` is the solution"
   ]
  },
  {
   "cell_type": "markdown",
   "metadata": {},
   "source": [
    "```python\n",
    "app = FastAPI()\n",
    "@app.get(\"/books\")\n",
    "async def get_request_object(request: Request):\n",
    "    # This request only get some information of the server\n",
    "    # get the URL\n",
    "    print(request.url)\n",
    "    # the url for something\n",
    "    print(request.url_for('static', path = ''))\n",
    "    # get the host of the client\n",
    "    print(request.client.host)\n",
    "    return {\"path\": request.url.path, 'host':request.client.host}\n",
    "```"
   ]
  },
  {
   "cell_type": "code",
   "execution_count": null,
   "metadata": {},
   "outputs": [],
   "source": []
  },
  {
   "cell_type": "markdown",
   "metadata": {},
   "source": [
    "### Templates"
   ]
  },
  {
   "cell_type": "markdown",
   "metadata": {},
   "source": [
    "##### Jinja\n",
    "\n",
    "`Jinja` is a templating engine\n",
    "\n",
    "*Special placeholders* in the template allow writing code similar to Python syntax. Then the template is passed data to render the final document.\n",
    "\n",
    "Example:\n",
    "* In the file `app.py`\n",
    "    ```python\n",
    "    from fastapi import FastAPI, Request\n",
    "    from fastapi.responses import HTMLResponse\n",
    "    from fastapi.staticfiles import StaticFiles\n",
    "    from fastapi.templating import Jinja2Templates\n",
    "\n",
    "    app = FastAPI()\n",
    "\n",
    "    app.mount(\"/static\", StaticFiles(directory=\"static\"), name=\"static\")\n",
    "\n",
    "    templates = Jinja2Templates(directory=\"templates\")\n",
    "\n",
    "    @app.get(\"/items/{id}\", response_class=HTMLResponse)\n",
    "    async def read_item(request: Request, id: str):\n",
    "        url_path_id = request.url_for('static', path='/img/{}.webp'.format(id))\n",
    "        context = {\"request\": request, \"id\": id, \"url_path_id\": url_path_id}\n",
    "        return templates.TemplateResponse(\"item.html\", context=context)\n",
    "    ```\n",
    "* In the file `HTML`\n",
    "\n",
    "    ```html\n",
    "    <!DOCTYPE html>\n",
    "    <html lang=\"en\">\n",
    "    <head>\n",
    "        <meta charset=\"UTF-8\">\n",
    "        <meta http-equiv=\"X-UA-Compatible\" content=\"IE=edge\">\n",
    "        <meta name=\"viewport\" content=\"width=device-width, initial-scale=1.0\">\n",
    "        <title>Item {{id}}</title>\n",
    "    </head>\n",
    "    <body>\n",
    "        <img src= {{url_path_id}}  alt=\"\">\n",
    "    </body>\n",
    "    </html>\n",
    "\n",
    "    ```\n",
    "source :https://jinja.palletsprojects.com/en/3.1.x/templates/"
   ]
  },
  {
   "cell_type": "markdown",
   "metadata": {},
   "source": [
    "The tree is\n",
    "\n",
    "* static\n",
    "  * css\n",
    "    * style.css\n",
    "  * img\n",
    "    * 41ee337dddc249baa79bae7400a4c1f2_9366.webp\n",
    "    * ...\n",
    "  * script\n",
    "    * script.js\n",
    "* templates\n",
    "  * item.html\n",
    "* app.py"
   ]
  },
  {
   "cell_type": "markdown",
   "metadata": {},
   "source": [
    "When we go to http://127.0.0.1:8000/items/b888f601abe04096baadac08011583ad_9366\n",
    "\n",
    "This will render a page with pics"
   ]
  }
 ],
 "metadata": {
  "kernelspec": {
   "display_name": "Python 3.9.7 ('venv': venv)",
   "language": "python",
   "name": "python3"
  },
  "language_info": {
   "name": "python",
   "version": "3.9.7"
  },
  "orig_nbformat": 4,
  "vscode": {
   "interpreter": {
    "hash": "b6af9f719e38f20bc7f9124fe7c63cb1bb694d0e2407c62e559a097ee49a43e7"
   }
  }
 },
 "nbformat": 4,
 "nbformat_minor": 2
}
