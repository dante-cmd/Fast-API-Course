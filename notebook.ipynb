{
 "cells": [
  {
   "cell_type": "markdown",
   "metadata": {},
   "source": [
    "# Theoretical Concepts"
   ]
  },
  {
   "cell_type": "markdown",
   "metadata": {},
   "source": [
    "### Framework vs library"
   ]
  },
  {
   "cell_type": "markdown",
   "metadata": {},
   "source": [
    "A `library` is essentially a set of functions that you can call, these days usually organized into classes. Each call does some work and returns control to the client.\n",
    "\n",
    "A `framework` embodies some abstract design, with more behavior built in. In order to use it you need to insert your behavior into various places in the framework either by subclassing or by plugging in your own classes. The framework's code then calls your code at these points.\n",
    "\n",
    "Other sources: https://ed.team/blog/framework-vs-libreria"
   ]
  },
  {
   "cell_type": "markdown",
   "metadata": {},
   "source": [
    "### Templates vs Static Files"
   ]
  },
  {
   "cell_type": "markdown",
   "metadata": {},
   "source": [
    "`Template files` are HTML pages that are presented to your users during the authentication process. The pages prompt users for authentication information, such as user names and passwords, or present information to users, such as one-time passwords, status, or errors.\n",
    "\n",
    "You can customize any of the HTML pages by exporting, modifying, and importing its corresponding template file. Each template file uses one or more specific macros. Source :https://www.ibm.com/docs/en/sva/9.0.5?topic=settings-template-files\n",
    "\n",
    "`Static files` are typically files such as scripts, CSS files, images, etc... that aren't server-generated, but must be sent to the browser when requested."
   ]
  },
  {
   "cell_type": "code",
   "execution_count": null,
   "metadata": {},
   "outputs": [],
   "source": []
  },
  {
   "cell_type": "code",
   "execution_count": null,
   "metadata": {},
   "outputs": [],
   "source": []
  },
  {
   "cell_type": "markdown",
   "metadata": {},
   "source": [
    "# Standard Web Technologies"
   ]
  },
  {
   "cell_type": "markdown",
   "metadata": {},
   "source": [
    "### User? User Agent? and Client? Contrast\n",
    "* `User` is the person who actually make use of the computer and computer related services\n",
    "* `User agent` can be described as a browser or an mobile application. *Chrome*, *Mozilla Firefox*\n",
    "* `clients` can be visualized as the application code. It is the code running at the end user side in order to \n",
    "\n",
    "Theory about user and agent:\n",
    "https://medium.com/@winma.15/user-user-agent-and-client-what-differs-c2a31b3066f"
   ]
  },
  {
   "cell_type": "markdown",
   "metadata": {},
   "source": [
    "# FastAPI"
   ]
  },
  {
   "cell_type": "markdown",
   "metadata": {},
   "source": [
    "* To make the `requirement.txt` file that contains the packages we've installed\n",
    "  * Type in terminal \n",
    "    ```cmd\n",
    "    pip freeze > requirement.txt\n",
    "    ```\n"
   ]
  },
  {
   "cell_type": "markdown",
   "metadata": {},
   "source": [
    "## First Steps"
   ]
  },
  {
   "cell_type": "markdown",
   "metadata": {},
   "source": [
    "The simplest FastAPI file could like this\n",
    "\n",
    "* In the file `main.py`\n",
    "    ```python\n",
    "    from fastapi import FastAPI\n",
    "\n",
    "    app = FastAPI()\n",
    "\n",
    "    @app.get(\"/\")\n",
    "    async def root():\n",
    "        return {\"Message\": \"Hello World\"}\n",
    "    ```\n",
    "* run `uvicorn main:app --reload`"
   ]
  },
  {
   "attachments": {},
   "cell_type": "markdown",
   "metadata": {},
   "source": [
    "`Uvicorn` creates the interface to an application connect to server thought a gateway. Formally `Uvicorn` is an ASGI (*Asynchronous Server Gateway Interface*) web server implementation for Python.\n",
    "\n",
    "By default *port* is `8000` and the  `http` *protocol*, `127.0.0.1` point out the local server.\n",
    "\n",
    "\n",
    "> The ASGI interface has two sides: the `server` or `gateway` side, and the `application` or `framework` side. The server side invokes a callable object that is provided by the application side\n",
    "\n",
    ">  A gateway is a hardware device that acts as a \"gate\" between two networks. It may be a router, firewall, server, or another device that enables traffic to flow in and out of the network.\n",
    ">\n",
    "> While a gateway protects the nodes within network, it is also a node itself. The gateway node is considered to be on the `edge` of the network as all data must flow through it before coming in or going out of the network. It may also translate data received from outside networks into a format or protocol recognized by devices within the internal network.\n",
    "> \n",
    "> A *router* is a common type of gateway used in home networks. It allows computers within the local network to send and receive data over the Internet. \n",
    "> \n",
    "> A *firewall* is a more advanced type of gateway, which filters inbound and outbound traffic, disallowing incoming data from suspicious or unauthorized sources. A proxy server is another type of gateway that uses a combination of hardware and software to filter traffic between two networks. For example, a proxy server may only allow local computers to access a list of authorized\n",
    "\n",
    "\n",
    "More of uvicorn in https://www.uvicorn.org/\n",
    "\n",
    "In the code `main` is the name of the file that contain the application `app` create inside of `main.py`.\n",
    "\n",
    "This `app` is an instance of the `FastAPI()` class. This will be the main point of interaction to create all our API.\n",
    "\n",
    "In the `app` we can define the *path*, *endpoint* or a *route* and the operation `get`, `delete`, `post`, `put` and others\n",
    "\n",
    "* path is the last part of the URL starting from the first `/`\n",
    "  * e.g. for https://www.lambdatest.com/free-online-tools/url-parse, `/free-online-tools/url-parse` is the path\n",
    "\n",
    "* With the decoration `@` we can pass the ``app``, the operation `get` and the route `/`. For instance, `@app.get('/')`\n",
    "\n",
    "* Below this decoration we define the `function` (can be sync or async) and what we want to `return`.\n",
    "\n",
    "\n",
    "`--reload` make the server restart after code changes. Only use for development.\n",
    "\n",
    "souces:https://peps.python.org/pep-3333/ ,https://asgi.readthedocs.io/en/latest/, https://www.uvicorn.org/server-behavior/\n"
   ]
  },
  {
   "cell_type": "markdown",
   "metadata": {},
   "source": [
    "If we wan to see the documentation of our API, go to http://127.0.0.1:8000/docs or  http://127.0.0.1:8000/redocs"
   ]
  },
  {
   "cell_type": "markdown",
   "metadata": {},
   "source": [
    "#### OpenAPI\n",
    "\n",
    "FastAPI generates a \"schema\" with all your API using the OpenAPI standard for defining APIs.\n",
    "\n",
    "To see it http://127.0.0.1:8000/openapi.json"
   ]
  },
  {
   "cell_type": "code",
   "execution_count": null,
   "metadata": {},
   "outputs": [],
   "source": []
  },
  {
   "cell_type": "markdown",
   "metadata": {},
   "source": [
    "### Request"
   ]
  },
  {
   "cell_type": "markdown",
   "metadata": {},
   "source": [
    "If we want to know the URL, Headers, query parameters, Path Parameters, and so on of a *route*,  `Request` is the solution"
   ]
  },
  {
   "cell_type": "markdown",
   "metadata": {},
   "source": [
    "```python\n",
    "app = FastAPI()\n",
    "@app.get(\"/books\")\n",
    "async def get_request_object(request: Request):\n",
    "    # This request only get some information of the server\n",
    "    # get the URL\n",
    "    print(request.url)\n",
    "    # the url for something\n",
    "    print(request.url_for('static', path = ''))\n",
    "    # get the host of the client\n",
    "    print(request.client.host)\n",
    "    return {\"path\": request.url.path, 'host':request.client.host}\n",
    "```"
   ]
  },
  {
   "cell_type": "code",
   "execution_count": null,
   "metadata": {},
   "outputs": [],
   "source": []
  },
  {
   "cell_type": "markdown",
   "metadata": {},
   "source": [
    "### Templates"
   ]
  },
  {
   "cell_type": "markdown",
   "metadata": {},
   "source": [
    "##### Jinja\n",
    "\n",
    "`Jinja` is a templating engine\n",
    "\n",
    "*Special placeholders* in the template allow writing code similar to Python syntax. Then the template is passed data to render the final document.\n",
    "\n",
    "Example:\n",
    "* In the file `app.py`\n",
    "    ```python\n",
    "    from fastapi import FastAPI, Request\n",
    "    from fastapi.responses import HTMLResponse\n",
    "    from fastapi.staticfiles import StaticFiles\n",
    "    from fastapi.templating import Jinja2Templates\n",
    "\n",
    "    app = FastAPI()\n",
    "\n",
    "    app.mount(\"/static\", StaticFiles(directory=\"static\"), name=\"static\")\n",
    "\n",
    "    templates = Jinja2Templates(directory=\"templates\")\n",
    "\n",
    "    @app.get(\"/items/{id}\", response_class=HTMLResponse)\n",
    "    async def read_item(request: Request, id: str):\n",
    "        url_path_id = request.url_for('static', path='/img/{}.webp'.format(id))\n",
    "        context = {\"request\": request, \"id\": id, \"url_path_id\": url_path_id}\n",
    "        return templates.TemplateResponse(\"item.html\", context=context)\n",
    "    ```\n",
    "* In the file `HTML`\n",
    "\n",
    "    ```html\n",
    "    <!DOCTYPE html>\n",
    "    <html lang=\"en\">\n",
    "    <head>\n",
    "        <meta charset=\"UTF-8\">\n",
    "        <meta http-equiv=\"X-UA-Compatible\" content=\"IE=edge\">\n",
    "        <meta name=\"viewport\" content=\"width=device-width, initial-scale=1.0\">\n",
    "        <title>Item {{id}}</title>\n",
    "    </head>\n",
    "    <body>\n",
    "        <img src= {{url_path_id}}  alt=\"\">\n",
    "    </body>\n",
    "    </html>\n",
    "\n",
    "    ```\n",
    "source :https://jinja.palletsprojects.com/en/3.1.x/templates/"
   ]
  },
  {
   "cell_type": "markdown",
   "metadata": {},
   "source": [
    "The tree is\n",
    "\n",
    "* static\n",
    "  * css\n",
    "    * style.css\n",
    "  * img\n",
    "    * 41ee337dddc249baa79bae7400a4c1f2_9366.webp\n",
    "    * ...\n",
    "  * script\n",
    "    * script.js\n",
    "* templates\n",
    "  * item.html\n",
    "* app.py"
   ]
  },
  {
   "cell_type": "markdown",
   "metadata": {},
   "source": [
    "When we go to http://127.0.0.1:8000/items/b888f601abe04096baadac08011583ad_9366\n",
    "\n",
    "This will render a page with pics"
   ]
  },
  {
   "cell_type": "markdown",
   "metadata": {},
   "source": [
    "### Jinja Templates"
   ]
  },
  {
   "cell_type": "markdown",
   "metadata": {},
   "source": [
    "*Delimiters*\n",
    "* `{% ... %}`: for Statements\n",
    "* `{{ ... }}`: for Expressions to print to the template output\n",
    "* `{# ... #}`: for Comments not included in the template output\n",
    "For the *expressions* we can access to attribute of the dict with `.` or `['']`, e.g. `{{ item.name }}`. If the attribute doesn't exist this return null or none, an empty value."
   ]
  },
  {
   "cell_type": "markdown",
   "metadata": {},
   "source": [
    "*Filters*\n",
    "\n"
   ]
  },
  {
   "cell_type": "markdown",
   "metadata": {},
   "source": [
    "The methods are applied from the left to right separed by `|`, e.g. `{{ name | upper }}`\n",
    "\n",
    "More filters in https://jinja.palletsprojects.com/en/3.1.x/templates/#builtin-filters"
   ]
  },
  {
   "cell_type": "markdown",
   "metadata": {},
   "source": [
    "*Test*"
   ]
  },
  {
   "cell_type": "markdown",
   "metadata": {},
   "source": [
    "Run some part of code if x meet some conditions\n",
    "\n",
    "```jinja\n",
    "{% if x>50 %}\n",
    "<p>Greater than 50</p>\n",
    "{% else %}\n",
    "<p>Less or equal than 50</p>\n",
    "{% endif %}\n",
    "```\n",
    "More test in https://jinja.palletsprojects.com/en/3.1.x/templates/#builtin-tests"
   ]
  },
  {
   "cell_type": "markdown",
   "metadata": {},
   "source": [
    "#### Template Inheritance"
   ]
  },
  {
   "cell_type": "markdown",
   "metadata": {},
   "source": [
    "The template inheritance allow us to build a base template that are common in our site and defined like a block children templates that can override it."
   ]
  },
  {
   "cell_type": "markdown",
   "metadata": {},
   "source": [
    "*Base templates*\n",
    "\n"
   ]
  },
  {
   "cell_type": "markdown",
   "metadata": {},
   "source": [
    "Defines a simple HTML skeleton document that you might use in our site\n",
    "\n",
    "```jinja\n",
    "\n",
    "<!DOCTYPE html>\n",
    "<html lang=\"en\">\n",
    "<head>\n",
    "    {% block head %}\n",
    "    <link rel=\"stylesheet\" href=\"style.css\" />\n",
    "    <title>{% block title %}{% endblock %} - My Webpage</title>\n",
    "    {% endblock %}\n",
    "</head>\n",
    "<body>\n",
    "    <div id=\"content\">{% block content %}{% endblock %}</div>\n",
    "    <div id=\"footer\">\n",
    "        {% block footer %}\n",
    "        &copy; Copyright 2008 by <a href=\"http://domain.invalid/\">you</a>.\n",
    "        {% endblock %}\n",
    "    </div>\n",
    "</body>\n",
    "</html>\n",
    "```"
   ]
  },
  {
   "cell_type": "markdown",
   "metadata": {},
   "source": [
    "1. `{% block %}` define the the block that the child template can fill, can be override as well. Each block is named, e.g. `head`, `title`, `content`, `footer` and at the end we need to close it with `{% endblock %}`\n",
    "2. As we can see we can have a block inside a block, this called *nested blocks*"
   ]
  },
  {
   "cell_type": "markdown",
   "metadata": {},
   "source": [
    "*Child Templates*"
   ]
  },
  {
   "cell_type": "markdown",
   "metadata": {},
   "source": [
    "```jinja\n",
    "{% extends \"base.html\" %}\n",
    "{% block title %}Index{% endblock %}\n",
    "{% block head %}\n",
    "    {{ super() }}\n",
    "    <style type=\"text/css\">\n",
    "        .important { color: #336699; }\n",
    "    </style>\n",
    "{% endblock %}\n",
    "{% block content %}\n",
    "    <h1>Index</h1>\n",
    "    <p class=\"important\">\n",
    "      Welcome to my awesome homepage.\n",
    "    </p>\n",
    "{% endblock %}\n",
    "```"
   ]
  },
  {
   "cell_type": "markdown",
   "metadata": {},
   "source": [
    "1. To use a base template we need to pull it with `{% extends \"base.html\" %}`\n",
    "2. Then we can call the block that we fill or override. In this case the blocks are `head`, `title` and `content`. `footer` was not called, so this block is filled with the default content (the content in the base template).\n",
    "3. In `title` block the content is filled (with Index), while for `head` and `content` blocks the contents are overriden\n",
    "4. It’s possible to render the contents of the parent block by calling `super()`"
   ]
  },
  {
   "cell_type": "code",
   "execution_count": null,
   "metadata": {},
   "outputs": [],
   "source": []
  },
  {
   "cell_type": "code",
   "execution_count": null,
   "metadata": {},
   "outputs": [],
   "source": []
  },
  {
   "cell_type": "markdown",
   "metadata": {},
   "source": [
    "With `Jinga` we can include a file HTML in a HTML\n",
    "\n",
    "```html\n",
    "{% include 'out.html' %}\n",
    "```"
   ]
  },
  {
   "cell_type": "code",
   "execution_count": null,
   "metadata": {},
   "outputs": [],
   "source": []
  },
  {
   "cell_type": "code",
   "execution_count": null,
   "metadata": {},
   "outputs": [],
   "source": []
  },
  {
   "cell_type": "code",
   "execution_count": null,
   "metadata": {},
   "outputs": [],
   "source": []
  },
  {
   "cell_type": "markdown",
   "metadata": {},
   "source": [
    "#### HTMX\n",
    "\n",
    "Htmx is a library that allows you to access modern browser features directly from HTML, rather than using javascript.\n"
   ]
  },
  {
   "cell_type": "markdown",
   "metadata": {},
   "source": [
    "* In the `index.html` file\n",
    "  ```html\n",
    "  <button\n",
    "    hx-get=\"/items\"\n",
    "    hx-trigger=\"click\"\n",
    "    hx-target=\"#parent-div\"\n",
    "    hx-swap=\"beforeend\"\n",
    "    name=\"button\"\n",
    "    id=\"1321\"\n",
    "  >\n",
    "    Click Me!\n",
    "  </button>\n",
    "  <div id=\"parent-div\">\n",
    "    <h1>The new Here</h1>\n",
    "  </div>\n",
    "  <script src=\"https://unpkg.com/htmx.org@1.8.0\"></script>\n",
    "  ```\n",
    "* In the `app.py`\n",
    "  ```python\n",
    "\n",
    "  from typing import Optional\n",
    "  from fastapi import FastAPI, Request, Header\n",
    "  from fastapi.responses import HTMLResponse\n",
    "  from fastapi.staticfiles import StaticFiles\n",
    "  from fastapi.templating import Jinja2Templates\n",
    "\n",
    "  app = FastAPI()\n",
    "\n",
    "  app.mount(\"/static\", StaticFiles(directory=\"static\"), name=\"static\")\n",
    "\n",
    "  templates = Jinja2Templates(directory=\"templates\")\n",
    "\n",
    "  @app.get('/items', response_class=HTMLResponse)\n",
    "\n",
    "  async def main(request:Request, hx_trigger :Optional[str]=Header(None)):\n",
    "    # hx_trigger contain the id value\n",
    "    if hx_trigger == '1321':\n",
    "        return \"<h1>Title 1321</h1>\"\n",
    "    context = {'request':request}\n",
    "    return templates.TemplateResponse('index.html', context=context)\n",
    "  ```\n",
    "\n"
   ]
  },
  {
   "cell_type": "markdown",
   "metadata": {},
   "source": [
    "The `<script src=\"https://unpkg.com/htmx.org@1.8.0\"></script>` is need to include in html file\n",
    "\n",
    "The button issues a request to `/items` (in the operation *get*) when this is *trigger* (*active*). And we choice what the parameters that we sent to header of the `/items`. In this case we sent the values of the id of the element that trigger, that is, the buttom. `hx_trigger` contain this value. (more information https://htmx.org/docs/#requests).\n",
    "\n",
    "In `hx-target` we set the element where the response (return) of the request sent by the button\n",
    "\n",
    "In `hx-swap` we set if the behaviour of the response, sometimes we want the response replace the target element (hx-target), so in this case we set `outerHTML`. Or include inside the target element `innerHTML` or include + order (`afterend`)\n",
    "\n",
    "\n",
    "In the file `py` we set the `hx_trigger` as optinal paremeter since, this is passed when the buttom trigger or activate.\n",
    "\n",
    "We can see the return change if `hx_trigger` is passed.\n"
   ]
  },
  {
   "cell_type": "code",
   "execution_count": null,
   "metadata": {},
   "outputs": [],
   "source": []
  },
  {
   "cell_type": "markdown",
   "metadata": {},
   "source": [
    "## Alpine.js\n",
    "\n",
    "* Declare data. The data is available only for this node (container).\n",
    "    ```html\n",
    "    <div x-data=\"{count:0}\">\n",
    "    <div>\n",
    "    ```\n",
    "* Listening for envents. `x-on:click` means that when we click it will execute `count++`, a js expression. [Note: `@click` is equvalent to `x-on:click`]\n",
    "    ```html\n",
    "    <div x-data=\"{count:0}\">\n",
    "        <button x-on:click=\"count++\">Increment</button>\n",
    "    <div>\n",
    "    ```\n",
    "* `x-text` is an Alpine directive you can use to set the text content of an element to the result of a JavaScript expression.\n",
    "    ```html\n",
    "        <div x-data=\"{count:0}\">\n",
    "            <button x-on:click=\"count++\">Increment</button>\n",
    "            <span x-text=\"count\"></span>\n",
    "        <div>\n",
    "    ```"
   ]
  },
  {
   "cell_type": "code",
   "execution_count": null,
   "metadata": {},
   "outputs": [],
   "source": []
  },
  {
   "cell_type": "code",
   "execution_count": null,
   "metadata": {},
   "outputs": [],
   "source": []
  }
 ],
 "metadata": {
  "kernelspec": {
   "display_name": "Python 3.9.7 ('venv': venv)",
   "language": "python",
   "name": "python3"
  },
  "language_info": {
   "name": "python",
   "version": "3.9.7 (tags/v3.9.7:1016ef3, Aug 30 2021, 20:19:38) [MSC v.1929 64 bit (AMD64)]"
  },
  "orig_nbformat": 4,
  "vscode": {
   "interpreter": {
    "hash": "b6af9f719e38f20bc7f9124fe7c63cb1bb694d0e2407c62e559a097ee49a43e7"
   }
  }
 },
 "nbformat": 4,
 "nbformat_minor": 2
}
